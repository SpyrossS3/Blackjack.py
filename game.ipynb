{
 "cells": [
  {
   "cell_type": "markdown",
   "metadata": {},
   "source": [
    "# Blackjack.py\n",
    "\n",
    "A Python and Data Science game experiment.\n",
    "\n",
    "<br>\n",
    "\n",
    "---"
   ]
  },
  {
   "cell_type": "markdown",
   "metadata": {},
   "source": [
    "## Project Logic:\n",
    "\n",
    "#### Game Process:\n",
    "\n",
    "- Dealing the Cards\n",
    "  - There are 52 cards in a single deck.\n",
    "  - Most commonly, 6 decks, 312 cards, are used for the deal\n",
    "    - A range of 60-75 cards are cut out of the total 312 at the bottom of the pack after shuffling\n",
    "- The Start of the Game\n",
    "  - The player is dealt two cards face up, the computer has one card face up\n",
    "  - During this time, Insurance or Surrender can be performed\n",
    "- Game Play\n",
    "  - If the computer's face-up card is a 10-card (A 10 or picture card), then they will look at their face-down and see if it is a Blackjack, if it is not a Blackjack, the card is not revealed until the player has completed their play\n",
    "  - The player continues to play until they bust or stand\n",
    "  - Once the player has busted, the game ends and they immediately lose, and the computer's cards are revealed\n",
    "  - If the player stands, then the computer plays until they either bust, stand, or hit Blackjack\n",
    "    - If the computer busts, the player immediately wins\n",
    "    - If the computer stands, the two are compared to see which is closer to 21\n",
    "    - If the computer continues to hit, they may hit Blackjack, and if so, either draws or wins immediately\n",
    "      - They only draw with the player if the player also got Blackjack"
   ]
  },
  {
   "cell_type": "markdown",
   "metadata": {},
   "source": [
    "## To-do for the project:\n",
    "\n",
    "---\n",
    "\n",
    "- Set up the card/shuffle function\n",
    "  - Create the arrays of each suit in a deck separately\n",
    "  - Create the array of one deck of cards with each suit in it by appending them all to the list\n",
    "  - Create the array holding the six decks of cards by having them all repeat via nested for loops and doing that 6 times over, appending all cards to the single card group\n",
    "  - Make the array shuffled by creating a shuffle algorithm\n",
    "    - (In Blackjack, cards are shuffled by cutting the deck in half, then shuffling together)\n",
    "      - Logic: Cut the array in half, make two arrays, the first 156 cards, and the second 156 cards and have them appended \n",
    "  - Cut a part of the array after choosing a random number between 60-75 inclusive to be the amount to cut off from the end of the array\n",
    "- Set up the dealer function\n",
    "- Creating the Dealer function\n",
    "  - Have the first card given to the dealer, then the player, then the face-down card to the dealer, and then the player again\n",
    "    - The face-down card has to be hidden from the player unless it's Blackjack\n",
    "    - Each card \"dealt\" is removed from the card deck off the start of the array\n",
    "- Creating the Scoring Function\n",
    "  - Compare the sum of two cards\n",
    "    - Meaning that a 10, and any picture cards need to be assigned as 10\n",
    "  - Declare a winner"
   ]
  },
  {
   "cell_type": "code",
   "execution_count": 7,
   "metadata": {},
   "outputs": [],
   "source": [
    "#Dependencies block\n",
    "\n",
    "import random"
   ]
  },
  {
   "cell_type": "code",
   "execution_count": 32,
   "metadata": {},
   "outputs": [
    {
     "name": "stdout",
     "output_type": "stream",
     "text": [
      "52\n",
      "312\n",
      "The Ace of Spades\n"
     ]
    }
   ],
   "source": [
    "#Full 6-deck function initialization and creation block\n",
    "\n",
    "cards = []\n",
    "\n",
    "def CardDeck():\n",
    "    deck = [[\"Spades\", \"Ace\"],[\"Spades\", 2],[\"Spades\", 3],[\"Spades\", 4],[\"Spades\", 5],[\"Spades\", 6],[\"Spades\", 7],[\"Spades\", 8],[\"Spades\", 9],[\"Spades\", 10],[\"Spades\", \"Jack\"],[\"Spades\", \"Queen\"],[\"Spades\", \"King\"],\n",
    "[\"Hearts\", \"Ace\"],[\"Hearts\", 2],[\"Hearts\", 3],[\"Hearts\", 4],[\"Hearts\", 5],[\"Hearts\", 6],[\"Hearts\", 7],[\"Hearts\", 8],[\"Hearts\", 9],[\"Hearts\", 10],[\"Hearts\", \"Jack\"],[\"Hearts\", \"Queen\"],[\"Hearts\", \"King\"],\n",
    "[\"Clubs\", \"Ace\"],[\"Clubs\", 2],[\"Clubs\", 3],[\"Clubs\", 4],[\"Clubs\", 5],[\"Clubs\", 6],[\"Clubs\", 7],[\"Clubs\", 8],[\"Clubs\", 9],[\"Clubs\", 10],[\"Clubs\", \"Jack\"],[\"Clubs\", \"Queen\"],[\"Clubs\", \"King\"],\n",
    "[\"Diamonds\",\"Ace\"],[\"Diamonds\", 2],[\"Diamonds\", 3],[\"Diamonds\", 4],[\"Diamonds\", 5],[\"Diamonds\", 6],[\"Diamonds\", 7],[\"Diamonds\", 8],[\"Diamonds\", 9],[\"Diamonds\", 10],[\"Diamonds\", \"Jack\"],[\"Diamonds\", \"Queen\"],[\"Diamonds\", \"King\"]]\n",
    "\n",
    "    i = 0\n",
    "    global cards\n",
    "    while i < 6: \n",
    "        for x in deck:\n",
    "            cards.append(x)\n",
    "        i = i + 1\n",
    "    \n",
    "    #Test running the function\n",
    "\n",
    "    print(len(deck))\n",
    "\n",
    "    print(len(cards))\n",
    "\n",
    "    print(\"The\", cards[0][1], \"of\", cards[0][0])\n",
    "\n",
    "#Test on declaring cards from this function\n",
    "CardDeck()"
   ]
  },
  {
   "attachments": {},
   "cell_type": "markdown",
   "metadata": {},
   "source": [
    "## The Shuffle Function\n",
    "\n",
    "---\n",
    "\n",
    "Things to note when building this realistic shuffle algorithm:\n",
    "\n",
    "- There is a random chance when the deck is cut that it willl be cut within a range of about 4 cards above and below the center of the deck.\n",
    "- As both sides are added together, with each addition, there is around a 1 in 3 chance an additional card, with up to two additional cards are added in the same add (an \"add\" meaning every time a card on each side is added to each other), and this can happen on both sides.\n",
    "  - Remember that you are adding two sides together, not one side to another.\n",
    "- The deck is shuffled 3 times in casinos, I believe.\n",
    "\n",
    "\n",
    "\n",
    "### Thinking through the logic\n",
    "\n",
    "- Cutting the deck\n",
    "  - Creating a variable that is assigned as a random number between 152 and 160 ((156 - 4) and (156 + 4)) inclusive.\n",
    "  - With that randomized variable, the deck will be split in two.\n",
    "- Creating the shuffled deck\n",
    "  - Create a random variable that will pick between 1-3 (is likely to change as things are coded)\n",
    "  - Take one element from the first array (representing the first half of the deck), and append it to a new array\n"
   ]
  },
  {
   "cell_type": "code",
   "execution_count": null,
   "metadata": {},
   "outputs": [],
   "source": [
    "#Card Shuffle function\n"
   ]
  }
 ],
 "metadata": {
  "kernelspec": {
   "display_name": "Python 3",
   "language": "python",
   "name": "python3"
  },
  "language_info": {
   "codemirror_mode": {
    "name": "ipython",
    "version": 3
   },
   "file_extension": ".py",
   "mimetype": "text/x-python",
   "name": "python",
   "nbconvert_exporter": "python",
   "pygments_lexer": "ipython3",
   "version": "3.11.1"
  },
  "orig_nbformat": 4,
  "vscode": {
   "interpreter": {
    "hash": "9ca5c2cc4ecb75ca79e76aecbe080aecf9efc491db0cfccaeca364cbdccb0efe"
   }
  }
 },
 "nbformat": 4,
 "nbformat_minor": 2
}
