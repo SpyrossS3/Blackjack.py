{
 "cells": [
  {
   "cell_type": "markdown",
   "metadata": {},
   "source": [
    "# Blackjack.py\n",
    "\n",
    "A Python and Data Science game experiment.\n",
    "\n",
    "<br>\n",
    "\n",
    "---"
   ]
  },
  {
   "cell_type": "markdown",
   "metadata": {},
   "source": [
    "## Project Logic:\n",
    "\n",
    "#### Game Process:\n",
    "\n",
    "- Dealing the Cards\n",
    "  - There are 52 cards in a single deck.\n",
    "  - Most commonly, 6 decks, 312 cards, are used for the deal\n",
    "    - A range of 60-75 cards are cut out of the total 312 at the bottom of the pack after shuffling\n",
    "- The Start of the Game\n",
    "  - The player is dealt two cards face up, the computer has one card face up\n",
    "  - During this time, Insurance or Surrender can be performed\n",
    "  - - Once the player has received their cards and chosen whether or not they choose Insurance or Surrender, the computer's face-down card is revealed\n",
    "- Game Play\n",
    "  "
   ]
  },
  {
   "cell_type": "markdown",
   "metadata": {},
   "source": [
    "## To-do for the project:\n",
    "\n",
    "---\n",
    "\n",
    "- [ ] Set up the dealing function\n",
    "  - [ ] Create the array of one deck of cards with each suit in it\n",
    "  - [ ] Create the array holding the six decks of cards\n",
    "  - [ ] Make the array shuffled\n",
    "  - [ ] Cut a part of the array after choosing a random number between 60-75 inclusive to be the amount to cut off from the end of the array"
   ]
  },
  {
   "cell_type": "code",
   "execution_count": null,
   "metadata": {},
   "outputs": [],
   "source": []
  }
 ],
 "metadata": {
  "language_info": {
   "name": "python"
  },
  "orig_nbformat": 4
 },
 "nbformat": 4,
 "nbformat_minor": 2
}
