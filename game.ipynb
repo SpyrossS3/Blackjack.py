{
 "cells": [
  {
   "cell_type": "markdown",
   "metadata": {},
   "source": [
    "# Blackjack.py\n",
    "\n",
    "A Python and Data Science game experiment.\n",
    "\n",
    "<br>\n",
    "\n",
    "---"
   ]
  },
  {
   "cell_type": "markdown",
   "metadata": {},
   "source": [
    "## Project Logic:\n",
    "\n",
    "#### Game Process:\n",
    "\n",
    "- Dealing the Cards\n",
    "  - There are 52 cards in a single deck.\n",
    "  - Most commonly, 6 decks, 312 cards, are used for the deal\n",
    "    - A range of 60-75 cards are cut out of the total 312 at the bottom of the pack after shuffling\n",
    "- The Start of the Game\n",
    "  - The player is dealt two cards face up, the computer has one card face up\n",
    "  - During this time, Insurance or Surrender can be performed\n",
    "- Game Play\n",
    "  - If the computer's face-up card is a 10-card (A 10 or picture card), then they will look at their face-down and see if it is a Blackjack, if it is not a Blackjack, the card is not revealed until the player has completed their play\n",
    "  - The player continues to play until they bust or stand\n",
    "  - Once the player has busted, the game ends and they immediately lose, and the computer's cards are revealed\n",
    "  - If the player stands, then the computer plays until they either bust, stand, or hit Blackjack\n",
    "    - If the computer busts, the player immediately wins\n",
    "    - If the computer stands, the two are compared to see which is closer to 21\n",
    "    - If the computer continues to hit, they may hit Blackjack, and if so, either draws or wins immediately\n",
    "      - They only draw with the player if the player also got Blackjack"
   ]
  },
  {
   "cell_type": "markdown",
   "metadata": {},
   "source": [
    "## To-do for the project:\n",
    "\n",
    "---\n",
    "\n",
    "- Set up the card/shuffle function\n",
    "  - Create the arrays of each suit in a deck separately\n",
    "  - Create the array of one deck of cards with each suit in it by appending them all to the list\n",
    "  - Create the array holding the six decks of cards by having them all repeat via nested for loops and doing that 6 times over, appending all cards to the single card group\n",
    "  - Make the array shuffled by creating a shuffle algorithm\n",
    "    - (In Blackjack, cards are shuffled by cutting the deck in half, then shuffling together)\n",
    "      - Logic: Cut the array in half, make two arrays, the first 156 cards, and the second 156 cards and have them appended \n",
    "  - Cut a part of the array after choosing a random number between 60-75 inclusive to be the amount to cut off from the end of the array\n",
    "- Set up the dealer function\n",
    "- Creating the Dealer function\n",
    "  - Have the first card given to the dealer, then the player, then the face-down card to the dealer, and then the player again\n",
    "    - The face-down card has to be hidden from the player unless it's Blackjack\n",
    "    - Each card \"dealt\" is removed from the card deck off the start of the array\n",
    "- Creating the Scoring Function\n",
    "  - Compare the sum of two cards\n",
    "    - Meaning that a 10, and any picture cards need to be assigned as 10\n",
    "  - Declare a winner"
   ]
  },
  {
   "cell_type": "code",
   "execution_count": 7,
   "metadata": {},
   "outputs": [],
   "source": [
    "#Dependencies block\n",
    "\n",
    "import random"
   ]
  },
  {
   "cell_type": "code",
   "execution_count": 6,
   "metadata": {},
   "outputs": [
    {
     "name": "stdout",
     "output_type": "stream",
     "text": [
      "52\n",
      "312\n"
     ]
    }
   ],
   "source": [
    "def CardDeck():\n",
    "    deck = [[\"Spades\", \"Ace\"],[\"Spades\", 2],[\"Spades\", 3],[\"Spades\", 4],[\"Spades\", 5],[\"Spades\", 6],[\"Spades\", 7],[\"Spades\", 8],[\"Spades\", 9],[\"Spades\", 10],[\"Spades\", \"Jack\"],[\"Spades\", \"Queen\"],[\"Spades\", \"King\"],\n",
    "[\"Hearts\", \"Ace\"],[\"Hearts\", 2],[\"Hearts\", 3],[\"Hearts\", 4],[\"Hearts\", 5],[\"Hearts\", 6],[\"Hearts\", 7],[\"Hearts\", 8],[\"Hearts\", 9],[\"Hearts\", 10],[\"Hearts\", \"Jack\"],[\"Hearts\", \"Queen\"],[\"Hearts\", \"King\"],\n",
    "[\"Clubs\", \"Ace\"],[\"Clubs\", 2],[\"Clubs\", 3],[\"Clubs\", 4],[\"Clubs\", 5],[\"Clubs\", 6],[\"Clubs\", 7],[\"Clubs\", 8],[\"Clubs\", 9],[\"Clubs\", 10],[\"Clubs\", \"Jack\"],[\"Clubs\", \"Queen\"],[\"Clubs\", \"King\"],\n",
    "[\"Diamonds\",\"Ace\"],[\"Diamonds\", 2],[\"Diamonds\", 3],[\"Diamonds\", 4],[\"Diamonds\", 5],[\"Diamonds\", 6],[\"Diamonds\", 7],[\"Diamonds\", 8],[\"Diamonds\", 9],[\"Diamonds\", 10],[\"Diamonds\", \"Jack\"],[\"Diamonds\", \"Queen\"],[\"Diamonds\", \"King\"]]\n",
    "\n",
    "    i = 0\n",
    "    cards = []\n",
    "\n",
    "    while i < 6:\n",
    "        for x in deck:\n",
    "            cards.append(x)\n",
    "        i = i + 1\n",
    "\n",
    "    print(len(deck))\n",
    "\n",
    "    print(len(cards))\n",
    "\n",
    "CardDeck()"
   ]
  },
  {
   "cell_type": "code",
   "execution_count": null,
   "metadata": {},
   "outputs": [],
   "source": []
  }
 ],
 "metadata": {
  "kernelspec": {
   "display_name": "Python 3.10.1 64-bit",
   "language": "python",
   "name": "python3"
  },
  "language_info": {
   "codemirror_mode": {
    "name": "ipython",
    "version": 3
   },
   "file_extension": ".py",
   "mimetype": "text/x-python",
   "name": "python",
   "nbconvert_exporter": "python",
   "pygments_lexer": "ipython3",
   "version": "3.10.1"
  },
  "orig_nbformat": 4,
  "vscode": {
   "interpreter": {
    "hash": "26de051ba29f2982a8de78e945f0abaf191376122a1563185a90213a26c5da77"
   }
  }
 },
 "nbformat": 4,
 "nbformat_minor": 2
}
