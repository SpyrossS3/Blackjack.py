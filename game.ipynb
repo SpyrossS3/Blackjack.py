{
 "cells": [
  {
   "cell_type": "markdown",
   "metadata": {},
   "source": [
    "# Blackjack.py\n",
    "\n",
    "A Python and Data Science game experiment.\n",
    "\n",
    "<br>\n",
    "\n",
    "---"
   ]
  },
  {
   "cell_type": "markdown",
   "metadata": {},
   "source": [
    "## Project Logic:\n",
    "\n",
    "#### Game Process:\n",
    "\n",
    "- Dealing the Cards\n",
    "  - There are 52 cards in a single deck.\n",
    "  - Most commonly, 6 decks, 312 cards, are used for the deal\n",
    "    - A range of 60-75 cards are cut out of the total 312 at the bottom of the pack after shuffling\n",
    "- The Start of the Game\n",
    "  - The player is dealt two cards face up, the computer has one card face up\n",
    "  - During this time, Insurance or Surrender can be performed\n",
    "- Game Play\n",
    "  - If the computer's face-up card is a 10-card (A 10 or picture card), then they will look at their face-down and see if it is a Blackjack, if it is not a Blackjack, the card is not revealed until the player has completed their play\n",
    "  - The player continues to play until they bust or stand\n",
    "  - Once the player has busted, the game ends and they immediately lose, and the computer's cards are revealed\n",
    "  - If the player stands, then the computer plays until they either bust, stand, or hit Blackjack\n",
    "    - If the computer busts, the player immediately wins\n",
    "    - If the computer stands, the two are compared to see which is closer to 21\n",
    "    - If the computer continues to hit, they may hit Blackjack, and if so, either draws or wins immediately\n",
    "      - They only draw with the player if the player also got Blackjack"
   ]
  },
  {
   "cell_type": "markdown",
   "metadata": {},
   "source": [
    "## To-do for the project:\n",
    "\n",
    "---\n",
    "\n",
    "- Set up the dealing function\n",
    "  - Create the array of one deck of cards with each suit in it\n",
    "  - Create the array holding the six decks of cards\n",
    "  - Make the array shuffled\n",
    "  - Cut a part of the array after choosing a random number between 60-75 inclusive to be the amount to cut off from the end of the array"
   ]
  },
  {
   "cell_type": "code",
   "execution_count": null,
   "metadata": {},
   "outputs": [],
   "source": []
  }
 ],
 "metadata": {
  "language_info": {
   "name": "python"
  },
  "orig_nbformat": 4
 },
 "nbformat": 4,
 "nbformat_minor": 2
}
